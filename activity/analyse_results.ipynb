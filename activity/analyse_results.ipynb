{
 "cells": [
  {
   "cell_type": "code",
   "execution_count": 1,
   "metadata": {
    "collapsed": true
   },
   "outputs": [],
   "source": [
    "%matplotlib inline\n",
    "import matplotlib.pyplot as plt\n",
    "import numpy as np\n",
    "import pandas as pd\n",
    "import seaborn as sns\n",
    "import pickle\n",
    "from ggplot import *\n",
    "from collections import OrderedDict\n",
    "pd.options.mode.chained_assignment = None"
   ]
  },
  {
   "cell_type": "code",
   "execution_count": 2,
   "metadata": {
    "collapsed": true
   },
   "outputs": [],
   "source": [
    "def get_df(history_file, n_hidden=[16, 32, 64, 128], cols=[\"n_hidden\", \"loss\", \"val_loss\", \"acc\", \"val_acc\"]):\n",
    "    dfs = []\n",
    "    for n in n_hidden:\n",
    "        with open(history_file.format(n), mode=\"br\") as f:\n",
    "            history = pickle.load(f)\n",
    "            dfs.append(pd.DataFrame({\n",
    "                    \"n_hidden\": n,\n",
    "                    \"loss\": history[\"loss\"],\n",
    "                    \"val_loss\": history[\"val_loss\"],\n",
    "                    \"acc\": history[\"acc\"],\n",
    "                    \"val_acc\": history[\"val_acc\"],\n",
    "            }))\n",
    "\n",
    "    history_seq = pd.concat(dfs, keys=[str(n) for n in n_hidden])\n",
    "    history_seq = history_seq[cols]\n",
    "    history_seq.n_hidden = history_seq.n_hidden.astype(np.int32).astype(str)\n",
    "    return history_seq"
   ]
  },
  {
   "cell_type": "code",
   "execution_count": 3,
   "metadata": {
    "collapsed": false
   },
   "outputs": [],
   "source": [
    "def get_best(file):\n",
    "    history = get_df(file)\n",
    "    best = pd.DataFrame()\n",
    "    for idx, df_select in history.groupby(level=[0]):\n",
    "        best_n_hidden_index = df_select[\"val_acc\"].idxmax()\n",
    "        best_n_hidden = df_select.loc[best_n_hidden_index]\n",
    "        best_n_hidden[\"epoch\"] = best_n_hidden_index[1]\n",
    "        best_n_hidden[\"n_epochs\"] = len(df_select)\n",
    "        best = best.append(best_n_hidden)\n",
    "    best = best.reset_index()\n",
    "    best[\"epoch\"] = best[\"epoch\"].astype(np.int8)\n",
    "    best[\"n_epochs\"] = best[\"n_epochs\"].astype(np.int8)\n",
    "    del best[\"index\"]\n",
    "    best = pd.DataFrame(OrderedDict([(\"n_hidden\", best[\"n_hidden\"]),\n",
    "                                     (\"epoch\", best[\"epoch\"]),\n",
    "                                     (\"n_epochs\", best[\"n_epochs\"]),\n",
    "                                     (\"loss\", best[\"loss\"]),\n",
    "                                     (\"val_loss\", best[\"val_loss\"]),\n",
    "                                     (\"acc\", best[\"acc\"]),\n",
    "                                     (\"val_acc\", best[\"val_acc\"])]))\n",
    "    return best"
   ]
  },
  {
   "cell_type": "code",
   "execution_count": 4,
   "metadata": {
    "collapsed": false
   },
   "outputs": [
    {
     "data": {
      "text/html": [
       "<div>\n",
       "<table border=\"1\" class=\"dataframe\">\n",
       "  <thead>\n",
       "    <tr style=\"text-align: right;\">\n",
       "      <th></th>\n",
       "      <th>n_hidden</th>\n",
       "      <th>epoch</th>\n",
       "      <th>n_epochs</th>\n",
       "      <th>loss</th>\n",
       "      <th>val_loss</th>\n",
       "      <th>acc</th>\n",
       "      <th>val_acc</th>\n",
       "    </tr>\n",
       "  </thead>\n",
       "  <tbody>\n",
       "    <tr>\n",
       "      <th>0</th>\n",
       "      <td>16</td>\n",
       "      <td>29</td>\n",
       "      <td>30</td>\n",
       "      <td>0.313078</td>\n",
       "      <td>0.326423</td>\n",
       "      <td>0.857953</td>\n",
       "      <td>0.852975</td>\n",
       "    </tr>\n",
       "    <tr>\n",
       "      <th>1</th>\n",
       "      <td>32</td>\n",
       "      <td>28</td>\n",
       "      <td>30</td>\n",
       "      <td>0.269232</td>\n",
       "      <td>0.316270</td>\n",
       "      <td>0.883827</td>\n",
       "      <td>0.863782</td>\n",
       "    </tr>\n",
       "    <tr>\n",
       "      <th>2</th>\n",
       "      <td>64</td>\n",
       "      <td>14</td>\n",
       "      <td>15</td>\n",
       "      <td>0.253726</td>\n",
       "      <td>0.318738</td>\n",
       "      <td>0.892474</td>\n",
       "      <td>0.862669</td>\n",
       "    </tr>\n",
       "    <tr>\n",
       "      <th>3</th>\n",
       "      <td>128</td>\n",
       "      <td>10</td>\n",
       "      <td>11</td>\n",
       "      <td>0.223962</td>\n",
       "      <td>0.326513</td>\n",
       "      <td>0.907087</td>\n",
       "      <td>0.865635</td>\n",
       "    </tr>\n",
       "  </tbody>\n",
       "</table>\n",
       "</div>"
      ],
      "text/plain": [
       "  n_hidden  epoch  n_epochs      loss  val_loss       acc   val_acc\n",
       "0       16     29        30  0.313078  0.326423  0.857953  0.852975\n",
       "1       32     28        30  0.269232  0.316270  0.883827  0.863782\n",
       "2       64     14        15  0.253726  0.318738  0.892474  0.862669\n",
       "3      128     10        11  0.223962  0.326513  0.907087  0.865635"
      ]
     },
     "execution_count": 4,
     "metadata": {},
     "output_type": "execute_result"
    }
   ],
   "source": [
    "# seq ... sequential model (GRU-GRU-Dense)\n",
    "history_seq_file = \"results/activity_model-117k-grid-150_smiles/activity-model-117k-70_30_train_test-150_smiles-history-{}_hidden.pickle\"\n",
    "best_seq = get_best(history_seq_file)\n",
    "best_seq"
   ]
  },
  {
   "cell_type": "code",
   "execution_count": 5,
   "metadata": {
    "collapsed": false,
    "scrolled": false
   },
   "outputs": [
    {
     "data": {
      "text/html": [
       "<div>\n",
       "<table border=\"1\" class=\"dataframe\">\n",
       "  <thead>\n",
       "    <tr style=\"text-align: right;\">\n",
       "      <th></th>\n",
       "      <th>n_hidden</th>\n",
       "      <th>epoch</th>\n",
       "      <th>n_epochs</th>\n",
       "      <th>loss</th>\n",
       "      <th>val_loss</th>\n",
       "      <th>acc</th>\n",
       "      <th>val_acc</th>\n",
       "    </tr>\n",
       "  </thead>\n",
       "  <tbody>\n",
       "    <tr>\n",
       "      <th>0</th>\n",
       "      <td>16</td>\n",
       "      <td>11</td>\n",
       "      <td>16</td>\n",
       "      <td>0.342068</td>\n",
       "      <td>0.365419</td>\n",
       "      <td>0.841689</td>\n",
       "      <td>0.830204</td>\n",
       "    </tr>\n",
       "    <tr>\n",
       "      <th>1</th>\n",
       "      <td>32</td>\n",
       "      <td>10</td>\n",
       "      <td>14</td>\n",
       "      <td>0.329517</td>\n",
       "      <td>0.380016</td>\n",
       "      <td>0.852216</td>\n",
       "      <td>0.831199</td>\n",
       "    </tr>\n",
       "    <tr>\n",
       "      <th>2</th>\n",
       "      <td>64</td>\n",
       "      <td>5</td>\n",
       "      <td>10</td>\n",
       "      <td>0.353607</td>\n",
       "      <td>0.376347</td>\n",
       "      <td>0.838079</td>\n",
       "      <td>0.824623</td>\n",
       "    </tr>\n",
       "    <tr>\n",
       "      <th>3</th>\n",
       "      <td>128</td>\n",
       "      <td>3</td>\n",
       "      <td>5</td>\n",
       "      <td>0.266837</td>\n",
       "      <td>0.506233</td>\n",
       "      <td>0.894161</td>\n",
       "      <td>0.786154</td>\n",
       "    </tr>\n",
       "  </tbody>\n",
       "</table>\n",
       "</div>"
      ],
      "text/plain": [
       "  n_hidden  epoch  n_epochs      loss  val_loss       acc   val_acc\n",
       "0       16     11        16  0.342068  0.365419  0.841689  0.830204\n",
       "1       32     10        14  0.329517  0.380016  0.852216  0.831199\n",
       "2       64      5        10  0.353607  0.376347  0.838079  0.824623\n",
       "3      128      3         5  0.266837  0.506233  0.894161  0.786154"
      ]
     },
     "execution_count": 5,
     "metadata": {},
     "output_type": "execute_result"
    }
   ],
   "source": [
    "# shared_a ... shared model (GRU-GRU-GRU)-Merge-GRU-Dense\n",
    "history_shared_a_file = \"results/activity_model-3_shared_a-117k-grid-50_smiles/activity_model-3_shared_a-117k-grid-50_smiles-history-{}_hidden.pickle\"\n",
    "best_shared_a = get_best(history_shared_a_file)\n",
    "best_shared_a"
   ]
  },
  {
   "cell_type": "code",
   "execution_count": 6,
   "metadata": {
    "collapsed": false
   },
   "outputs": [
    {
     "data": {
      "text/html": [
       "<div>\n",
       "<table border=\"1\" class=\"dataframe\">\n",
       "  <thead>\n",
       "    <tr style=\"text-align: right;\">\n",
       "      <th></th>\n",
       "      <th>n_hidden</th>\n",
       "      <th>epoch</th>\n",
       "      <th>n_epochs</th>\n",
       "      <th>loss</th>\n",
       "      <th>val_loss</th>\n",
       "      <th>acc</th>\n",
       "      <th>val_acc</th>\n",
       "    </tr>\n",
       "  </thead>\n",
       "  <tbody>\n",
       "    <tr>\n",
       "      <th>0</th>\n",
       "      <td>16</td>\n",
       "      <td>22</td>\n",
       "      <td>27</td>\n",
       "      <td>0.341188</td>\n",
       "      <td>0.356912</td>\n",
       "      <td>0.845425</td>\n",
       "      <td>0.837527</td>\n",
       "    </tr>\n",
       "    <tr>\n",
       "      <th>1</th>\n",
       "      <td>32</td>\n",
       "      <td>9</td>\n",
       "      <td>14</td>\n",
       "      <td>0.333089</td>\n",
       "      <td>0.372710</td>\n",
       "      <td>0.850959</td>\n",
       "      <td>0.831909</td>\n",
       "    </tr>\n",
       "    <tr>\n",
       "      <th>2</th>\n",
       "      <td>64</td>\n",
       "      <td>3</td>\n",
       "      <td>10</td>\n",
       "      <td>0.332656</td>\n",
       "      <td>0.400454</td>\n",
       "      <td>0.851980</td>\n",
       "      <td>0.812285</td>\n",
       "    </tr>\n",
       "    <tr>\n",
       "      <th>3</th>\n",
       "      <td>128</td>\n",
       "      <td>1</td>\n",
       "      <td>5</td>\n",
       "      <td>0.343461</td>\n",
       "      <td>0.437523</td>\n",
       "      <td>0.846333</td>\n",
       "      <td>0.798610</td>\n",
       "    </tr>\n",
       "  </tbody>\n",
       "</table>\n",
       "</div>"
      ],
      "text/plain": [
       "  n_hidden  epoch  n_epochs      loss  val_loss       acc   val_acc\n",
       "0       16     22        27  0.341188  0.356912  0.845425  0.837527\n",
       "1       32      9        14  0.333089  0.372710  0.850959  0.831909\n",
       "2       64      3        10  0.332656  0.400454  0.851980  0.812285\n",
       "3      128      1         5  0.343461  0.437523  0.846333  0.798610"
      ]
     },
     "execution_count": 6,
     "metadata": {},
     "output_type": "execute_result"
    }
   ],
   "source": [
    "# shared_b ... shared model (GRU-GRU-GRU)-(GRU-GRU-GRU)-Merge-Dense\n",
    "history_shared_b_file = \"results/activity_model-3_shared_b-117k-grid-50_smiles/activity_model-3_shared_b-117k-grid-50_smiles-history-{}_hidden.pickle\"\n",
    "best_shared_b = get_best(history_shared_b_file)\n",
    "best_shared_b"
   ]
  },
  {
   "cell_type": "code",
   "execution_count": 10,
   "metadata": {
    "collapsed": false
   },
   "outputs": [
    {
     "data": {
      "text/html": [
       "<div>\n",
       "<table border=\"1\" class=\"dataframe\">\n",
       "  <thead>\n",
       "    <tr style=\"text-align: right;\">\n",
       "      <th></th>\n",
       "      <th>n_hidden</th>\n",
       "      <th>epoch</th>\n",
       "      <th>n_epochs</th>\n",
       "      <th>loss</th>\n",
       "      <th>val_loss</th>\n",
       "      <th>acc</th>\n",
       "      <th>val_acc</th>\n",
       "    </tr>\n",
       "  </thead>\n",
       "  <tbody>\n",
       "    <tr>\n",
       "      <th>0</th>\n",
       "      <td>16</td>\n",
       "      <td>28</td>\n",
       "      <td>30</td>\n",
       "      <td>0.344035</td>\n",
       "      <td>0.349315</td>\n",
       "      <td>0.840676</td>\n",
       "      <td>0.839373</td>\n",
       "    </tr>\n",
       "    <tr>\n",
       "      <th>1</th>\n",
       "      <td>32</td>\n",
       "      <td>26</td>\n",
       "      <td>30</td>\n",
       "      <td>0.318622</td>\n",
       "      <td>0.334057</td>\n",
       "      <td>0.857276</td>\n",
       "      <td>0.851841</td>\n",
       "    </tr>\n",
       "    <tr>\n",
       "      <th>2</th>\n",
       "      <td>64</td>\n",
       "      <td>19</td>\n",
       "      <td>21</td>\n",
       "      <td>0.282884</td>\n",
       "      <td>0.324444</td>\n",
       "      <td>0.877039</td>\n",
       "      <td>0.859160</td>\n",
       "    </tr>\n",
       "    <tr>\n",
       "      <th>3</th>\n",
       "      <td>128</td>\n",
       "      <td>14</td>\n",
       "      <td>15</td>\n",
       "      <td>0.254224</td>\n",
       "      <td>0.325103</td>\n",
       "      <td>0.890800</td>\n",
       "      <td>0.861288</td>\n",
       "    </tr>\n",
       "  </tbody>\n",
       "</table>\n",
       "</div>"
      ],
      "text/plain": [
       "  n_hidden  epoch  n_epochs      loss  val_loss       acc   val_acc\n",
       "0       16     28        30  0.344035  0.349315  0.840676  0.839373\n",
       "1       32     26        30  0.318622  0.334057  0.857276  0.851841\n",
       "2       64     19        21  0.282884  0.324444  0.877039  0.859160\n",
       "3      128     14        15  0.254224  0.325103  0.890800  0.861288"
      ]
     },
     "execution_count": 10,
     "metadata": {},
     "output_type": "execute_result"
    }
   ],
   "source": [
    "# shared ... shared model (GRU-GRU-GRU)-Merge-Dense\n",
    "# shouldn't be compared with other shared models, because it was trained on SMILES with max. length 150\n",
    "history_shared_file = \"results/activity_model-3_shared-117k-grid-150_smiles/activity_model-3_shared-117k-grid-150_smiles-history-{}_hidden.pickle\"\n",
    "best_shared = get_best(history_shared_file)\n",
    "best_shared"
   ]
  },
  {
   "cell_type": "code",
   "execution_count": 8,
   "metadata": {
    "collapsed": false
   },
   "outputs": [],
   "source": [
    "#sns.set()\n",
    "#sns.set_style(\"whitegrid\")\n",
    "#plot = sns.factorplot(x=\"loss\", y=\"val_loss\", data=history_seq, hue=\"n_hidden\", scale=0.7, size=10, join=True)\n",
    "#plot.set(xticks=np.arange(0, 1.1, 0.1))"
   ]
  },
  {
   "cell_type": "code",
   "execution_count": 9,
   "metadata": {
    "collapsed": false
   },
   "outputs": [
    {
     "data": {
      "text/plain": [
       "'\\nfig, ax = plt.subplots(1, 4, figsize=(8, 8))\\ng = ggplot(history_seq, aes(x=\"loss\", y=\"val_loss\", color=\"n_hidden\")) +         geom_line(size=2.0) +         xlab(\"loss\") +         ylab(\"val_loss\") +         ggtitle(\"loss vs. validation loss | sequential model\")\\ng\\n'"
      ]
     },
     "execution_count": 9,
     "metadata": {},
     "output_type": "execute_result"
    }
   ],
   "source": [
    "\"\"\"\n",
    "fig, ax = plt.subplots(1, 4, figsize=(8, 8))\n",
    "g = ggplot(history_seq, aes(x=\"loss\", y=\"val_loss\", color=\"n_hidden\")) + \\\n",
    "        geom_line(size=2.0) + \\\n",
    "        xlab(\"loss\") + \\\n",
    "        ylab(\"val_loss\") + \\\n",
    "        ggtitle(\"loss vs. validation loss | sequential model\")\n",
    "g\n",
    "\"\"\""
   ]
  },
  {
   "cell_type": "code",
   "execution_count": null,
   "metadata": {
    "collapsed": true
   },
   "outputs": [],
   "source": []
  }
 ],
 "metadata": {
  "anaconda-cloud": {},
  "kernelspec": {
   "display_name": "Python [conda env:pdd]",
   "language": "python",
   "name": "conda-env-pdd-py"
  },
  "language_info": {
   "codemirror_mode": {
    "name": "ipython",
    "version": 3
   },
   "file_extension": ".py",
   "mimetype": "text/x-python",
   "name": "python",
   "nbconvert_exporter": "python",
   "pygments_lexer": "ipython3",
   "version": "3.5.2"
  }
 },
 "nbformat": 4,
 "nbformat_minor": 0
}
