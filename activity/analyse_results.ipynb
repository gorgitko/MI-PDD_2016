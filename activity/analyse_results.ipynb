{
 "cells": [
  {
   "cell_type": "code",
   "execution_count": null,
   "metadata": {
    "collapsed": true
   },
   "outputs": [],
   "source": [
    "%matplotlib inline\n",
    "import matplotlib.pyplot as plt\n",
    "import numpy as np\n",
    "import pandas as pd\n",
    "import seaborn as sns\n",
    "import pickle\n",
    "from ggplot import *\n",
    "from collections import OrderedDict\n",
    "pd.options.mode.chained_assignment = None"
   ]
  },
  {
   "cell_type": "code",
   "execution_count": null,
   "metadata": {
    "collapsed": true
   },
   "outputs": [],
   "source": [
    "def get_df(history_file, n_hidden=[16, 32, 64, 128], cols=[\"n_hidden\", \"loss\", \"val_loss\", \"acc\", \"val_acc\"]):\n",
    "    dfs = []\n",
    "    for n in n_hidden:\n",
    "        with open(history_file.format(n), mode=\"br\") as f:\n",
    "            history = pickle.load(f)\n",
    "            dfs.append(pd.DataFrame({\n",
    "                    \"n_hidden\": n,\n",
    "                    \"loss\": history[\"loss\"],\n",
    "                    \"val_loss\": history[\"val_loss\"],\n",
    "                    \"acc\": history[\"acc\"],\n",
    "                    \"val_acc\": history[\"val_acc\"],\n",
    "            }))\n",
    "\n",
    "    history_seq = pd.concat(dfs, keys=[str(n) for n in n_hidden])\n",
    "    history_seq = history_seq[cols]\n",
    "    history_seq.n_hidden = history_seq.n_hidden.astype(np.int32).astype(str)\n",
    "    return history_seq"
   ]
  },
  {
   "cell_type": "code",
   "execution_count": null,
   "metadata": {
    "collapsed": false
   },
   "outputs": [],
   "source": [
    "def get_best(file):\n",
    "    history = get_df(file)\n",
    "    best = pd.DataFrame()\n",
    "    for idx, df_select in history.groupby(level=[0]):\n",
    "        best_n_hidden_index = df_select[\"val_acc\"].idxmax()\n",
    "        best_n_hidden = df_select.loc[best_n_hidden_index]\n",
    "        best_n_hidden[\"epoch\"] = best_n_hidden_index[1]\n",
    "        best_n_hidden[\"n_epochs\"] = len(df_select)\n",
    "        best = best.append(best_n_hidden)\n",
    "    best = best.reset_index()\n",
    "    best[\"epoch\"] = best[\"epoch\"].astype(np.int8)\n",
    "    best[\"n_epochs\"] = best[\"n_epochs\"].astype(np.int8)\n",
    "    del best[\"index\"]\n",
    "    best = pd.DataFrame(OrderedDict([(\"n_hidden\", best[\"n_hidden\"]),\n",
    "                                     (\"epoch\", best[\"epoch\"]),\n",
    "                                     (\"n_epochs\", best[\"n_epochs\"]),\n",
    "                                     (\"loss\", best[\"loss\"]),\n",
    "                                     (\"val_loss\", best[\"val_loss\"]),\n",
    "                                     (\"acc\", best[\"acc\"]),\n",
    "                                     (\"val_acc\", best[\"val_acc\"])]))\n",
    "    return best"
   ]
  },
  {
   "cell_type": "code",
   "execution_count": null,
   "metadata": {
    "collapsed": false
   },
   "outputs": [],
   "source": [
    "# seq ... sequential model (GRU-GRU-Dense)\n",
    "history_seq_file = \"results/activity_model-117k-grid-150_smiles/activity-model-117k-70_30_train_test-150_smiles-history-{}_hidden.pickle\"\n",
    "best_seq = get_best(history_seq_file)\n",
    "best_seq"
   ]
  },
  {
   "cell_type": "code",
   "execution_count": null,
   "metadata": {
    "collapsed": false,
    "scrolled": false
   },
   "outputs": [],
   "source": [
    "# shared_a ... shared model (GRU-GRU-GRU)-Merge-GRU-Dense\n",
    "history_shared_a_file = \"results/activity_model-3_shared_a-117k-grid-50_smiles/activity_model-3_shared_a-117k-grid-50_smiles-history-{}_hidden.pickle\"\n",
    "best_shared_a = get_best(history_shared_a_file)\n",
    "best_shared_a"
   ]
  },
  {
   "cell_type": "code",
   "execution_count": null,
   "metadata": {
    "collapsed": false
   },
   "outputs": [],
   "source": [
    "# shared_b ... shared model (GRU-GRU-GRU)-(GRU-GRU-GRU)-Merge-Dense\n",
    "history_shared_b_file = \"results/activity_model-3_shared_b-117k-grid-50_smiles/activity_model-3_shared_b-117k-grid-50_smiles-history-{}_hidden.pickle\"\n",
    "best_shared_b = get_best(history_shared_b_file)\n",
    "best_shared_b"
   ]
  },
  {
   "cell_type": "code",
   "execution_count": null,
   "metadata": {
    "collapsed": false
   },
   "outputs": [],
   "source": [
    "# shared ... shared model (GRU-GRU-GRU)-Merge-Dense\n",
    "# should'n be compared with other shared models, because it was trained on SMILES with max. length 150\n",
    "history_shared_file = \"results/activity_model-3_shared-117k-grid-150_smiles/activity_model-3_shared-117k-grid-150_smiles-history-{}_hidden.pickle\"\n",
    "best_shared = get_best(history_shared_file)\n",
    "best_shared"
   ]
  },
  {
   "cell_type": "code",
   "execution_count": null,
   "metadata": {
    "collapsed": false
   },
   "outputs": [],
   "source": [
    "#sns.set()\n",
    "#sns.set_style(\"whitegrid\")\n",
    "#plot = sns.factorplot(x=\"loss\", y=\"val_loss\", data=history_seq, hue=\"n_hidden\", scale=0.7, size=10, join=True)\n",
    "#plot.set(xticks=np.arange(0, 1.1, 0.1))"
   ]
  },
  {
   "cell_type": "code",
   "execution_count": null,
   "metadata": {
    "collapsed": false
   },
   "outputs": [],
   "source": [
    "\"\"\"\n",
    "fig, ax = plt.subplots(1, 4, figsize=(8, 8))\n",
    "g = ggplot(history_seq, aes(x=\"loss\", y=\"val_loss\", color=\"n_hidden\")) + \\\n",
    "        geom_line(size=2.0) + \\\n",
    "        xlab(\"loss\") + \\\n",
    "        ylab(\"val_loss\") + \\\n",
    "        ggtitle(\"loss vs. validation loss | sequential model\")\n",
    "g\n",
    "\"\"\""
   ]
  },
  {
   "cell_type": "code",
   "execution_count": null,
   "metadata": {
    "collapsed": true
   },
   "outputs": [],
   "source": []
  }
 ],
 "metadata": {
  "anaconda-cloud": {},
  "kernelspec": {
   "display_name": "Python [conda env:pdd]",
   "language": "python",
   "name": "conda-env-pdd-py"
  },
  "language_info": {
   "codemirror_mode": {
    "name": "ipython",
    "version": 3
   },
   "file_extension": ".py",
   "mimetype": "text/x-python",
   "name": "python",
   "nbconvert_exporter": "python",
   "pygments_lexer": "ipython3",
   "version": "3.5.2"
  }
 },
 "nbformat": 4,
 "nbformat_minor": 0
}
