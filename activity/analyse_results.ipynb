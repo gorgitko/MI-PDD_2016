{
 "cells": [
  {
   "cell_type": "code",
   "execution_count": 1,
   "metadata": {
    "collapsed": true
   },
   "outputs": [],
   "source": [
    "%matplotlib inline\n",
    "import matplotlib.pyplot as plt\n",
    "import numpy as np\n",
    "import pandas as pd\n",
    "import seaborn as sns\n",
    "import pickle\n",
    "from ggplot import *"
   ]
  },
  {
   "cell_type": "code",
   "execution_count": 9,
   "metadata": {
    "collapsed": true
   },
   "outputs": [],
   "source": [
    "def get_df(history_file, n_hidden=[16, 32, 64, 128], cols=[\"n_hidden\", \"loss\", \"val_loss\", \"acc\", \"val_acc\"]):\n",
    "    dfs = []\n",
    "    for n in n_hidden:\n",
    "        with open(history_file.format(n), mode=\"br\") as f:\n",
    "            history = pickle.load(f)\n",
    "            dfs.append(pd.DataFrame({\n",
    "                    \"n_hidden\": n,\n",
    "                    \"loss\": history[\"loss\"],\n",
    "                    \"val_loss\": history[\"val_loss\"],\n",
    "                    \"acc\": history[\"acc\"],\n",
    "                    \"val_acc\": history[\"val_acc\"],\n",
    "            }))\n",
    "\n",
    "    history_seq = pd.concat(dfs, keys=[str(n) for n in n_hidden])\n",
    "    history_seq = history_seq[cols]\n",
    "    history_seq.n_hidden = history_seq.n_hidden.astype(np.int32).astype(str)\n",
    "    return history_seq"
   ]
  },
  {
   "cell_type": "code",
   "execution_count": 10,
   "metadata": {
    "collapsed": false
   },
   "outputs": [
    {
     "data": {
      "text/html": [
       "<div>\n",
       "<table border=\"1\" class=\"dataframe\">\n",
       "  <thead>\n",
       "    <tr style=\"text-align: right;\">\n",
       "      <th></th>\n",
       "      <th>epoch</th>\n",
       "      <th>n_hidden</th>\n",
       "      <th>loss</th>\n",
       "      <th>val_loss</th>\n",
       "      <th>acc</th>\n",
       "      <th>val_acc</th>\n",
       "    </tr>\n",
       "  </thead>\n",
       "  <tbody>\n",
       "    <tr>\n",
       "      <th>0</th>\n",
       "      <td>29</td>\n",
       "      <td>16</td>\n",
       "      <td>0.313078</td>\n",
       "      <td>0.326423</td>\n",
       "      <td>0.857953</td>\n",
       "      <td>0.852975</td>\n",
       "    </tr>\n",
       "    <tr>\n",
       "      <th>1</th>\n",
       "      <td>29</td>\n",
       "      <td>32</td>\n",
       "      <td>0.267471</td>\n",
       "      <td>0.316537</td>\n",
       "      <td>0.884800</td>\n",
       "      <td>0.863042</td>\n",
       "    </tr>\n",
       "    <tr>\n",
       "      <th>2</th>\n",
       "      <td>14</td>\n",
       "      <td>64</td>\n",
       "      <td>0.253726</td>\n",
       "      <td>0.318738</td>\n",
       "      <td>0.892474</td>\n",
       "      <td>0.862669</td>\n",
       "    </tr>\n",
       "    <tr>\n",
       "      <th>3</th>\n",
       "      <td>10</td>\n",
       "      <td>128</td>\n",
       "      <td>0.223962</td>\n",
       "      <td>0.326513</td>\n",
       "      <td>0.907087</td>\n",
       "      <td>0.865635</td>\n",
       "    </tr>\n",
       "  </tbody>\n",
       "</table>\n",
       "</div>"
      ],
      "text/plain": [
       "   epoch n_hidden      loss  val_loss       acc   val_acc\n",
       "0     29       16  0.313078  0.326423  0.857953  0.852975\n",
       "1     29       32  0.267471  0.316537  0.884800  0.863042\n",
       "2     14       64  0.253726  0.318738  0.892474  0.862669\n",
       "3     10      128  0.223962  0.326513  0.907087  0.865635"
      ]
     },
     "execution_count": 10,
     "metadata": {},
     "output_type": "execute_result"
    }
   ],
   "source": [
    "# seq ... sequential model (GRU-GRU-Dense)\n",
    "history_seq_file = \"results/activity_model-117k-grid-150_smiles/activity-model-117k-70_30_train_test-150_smiles-history-{}_hidden.pickle\"\n",
    "history_seq = get_df(history_seq_file)\n",
    "best_seq = pd.DataFrame()\n",
    "for idx, df_select in history_seq.groupby(level=[0]):\n",
    "    best_seq = best_seq.append(df_select.tail(1))\n",
    "best_seq = best_seq.reset_index()\n",
    "del best_seq[\"level_0\"]\n",
    "best_seq.columns.values[0] = \"epoch\"\n",
    "best_seq"
   ]
  },
  {
   "cell_type": "code",
   "execution_count": 12,
   "metadata": {
    "collapsed": false,
    "scrolled": false
   },
   "outputs": [
    {
     "data": {
      "text/html": [
       "<div>\n",
       "<table border=\"1\" class=\"dataframe\">\n",
       "  <thead>\n",
       "    <tr style=\"text-align: right;\">\n",
       "      <th></th>\n",
       "      <th>epoch</th>\n",
       "      <th>n_hidden</th>\n",
       "      <th>loss</th>\n",
       "      <th>val_loss</th>\n",
       "      <th>acc</th>\n",
       "      <th>val_acc</th>\n",
       "    </tr>\n",
       "  </thead>\n",
       "  <tbody>\n",
       "    <tr>\n",
       "      <th>0</th>\n",
       "      <td>29</td>\n",
       "      <td>16</td>\n",
       "      <td>0.343194</td>\n",
       "      <td>0.348635</td>\n",
       "      <td>0.841471</td>\n",
       "      <td>0.839336</td>\n",
       "    </tr>\n",
       "    <tr>\n",
       "      <th>1</th>\n",
       "      <td>29</td>\n",
       "      <td>32</td>\n",
       "      <td>0.314258</td>\n",
       "      <td>0.338042</td>\n",
       "      <td>0.859846</td>\n",
       "      <td>0.847976</td>\n",
       "    </tr>\n",
       "    <tr>\n",
       "      <th>2</th>\n",
       "      <td>20</td>\n",
       "      <td>64</td>\n",
       "      <td>0.280100</td>\n",
       "      <td>0.324888</td>\n",
       "      <td>0.878336</td>\n",
       "      <td>0.858701</td>\n",
       "    </tr>\n",
       "    <tr>\n",
       "      <th>3</th>\n",
       "      <td>14</td>\n",
       "      <td>128</td>\n",
       "      <td>0.254224</td>\n",
       "      <td>0.325103</td>\n",
       "      <td>0.890800</td>\n",
       "      <td>0.861288</td>\n",
       "    </tr>\n",
       "  </tbody>\n",
       "</table>\n",
       "</div>"
      ],
      "text/plain": [
       "   epoch n_hidden      loss  val_loss       acc   val_acc\n",
       "0     29       16  0.343194  0.348635  0.841471  0.839336\n",
       "1     29       32  0.314258  0.338042  0.859846  0.847976\n",
       "2     20       64  0.280100  0.324888  0.878336  0.858701\n",
       "3     14      128  0.254224  0.325103  0.890800  0.861288"
      ]
     },
     "execution_count": 12,
     "metadata": {},
     "output_type": "execute_result"
    }
   ],
   "source": [
    "# shared ... shared model ([GRU-GRU-GRU]-Dense)\n",
    "history_shared_file = \"results/activity_model-3_shared-117k-grid-150_smiles/activity_model-3_shared-117k-grid-150_smiles-history-{}_hidden.pickle\"\n",
    "history_shared = get_df(history_shared_file)\n",
    "best_shared = pd.DataFrame()\n",
    "for idx, df_select in history_shared.groupby(level=[0]):\n",
    "    best_shared = best_shared.append(df_select.tail(1))\n",
    "best_shared = best_shared.reset_index()\n",
    "del best_shared[\"level_0\"]\n",
    "best_shared.columns.values[0] = \"epoch\"\n",
    "best_shared"
   ]
  },
  {
   "cell_type": "code",
   "execution_count": 5,
   "metadata": {
    "collapsed": false
   },
   "outputs": [],
   "source": [
    "#sns.set()\n",
    "#sns.set_style(\"whitegrid\")\n",
    "#plot = sns.factorplot(x=\"loss\", y=\"val_loss\", data=history_seq, hue=\"n_hidden\", scale=0.7, size=10, join=True)\n",
    "#plot.set(xticks=np.arange(0, 1.1, 0.1))"
   ]
  },
  {
   "cell_type": "code",
   "execution_count": 6,
   "metadata": {
    "collapsed": false
   },
   "outputs": [],
   "source": [
    "\"\"\"\n",
    "fig, ax = plt.subplots(1, 4, figsize=(8, 8))\n",
    "g = ggplot(history_seq, aes(x=\"loss\", y=\"val_loss\", color=\"n_hidden\")) + \\\n",
    "        geom_line(size=2.0) + \\\n",
    "        xlab(\"loss\") + \\\n",
    "        ylab(\"val_loss\") + \\\n",
    "        ggtitle(\"loss vs. validation loss | sequential model\")\n",
    "g\n",
    "\"\"\""
   ]
  },
  {
   "cell_type": "code",
   "execution_count": null,
   "metadata": {
    "collapsed": true
   },
   "outputs": [],
   "source": [
    ""
   ]
  }
 ],
 "metadata": {
  "anaconda-cloud": {},
  "kernelspec": {
   "display_name": "Python [conda env:pdd]",
   "language": "python",
   "name": "conda-env-pdd-py"
  },
  "language_info": {
   "codemirror_mode": {
    "name": "ipython",
    "version": 3.0
   },
   "file_extension": ".py",
   "mimetype": "text/x-python",
   "name": "python",
   "nbconvert_exporter": "python",
   "pygments_lexer": "ipython3",
   "version": "3.5.2"
  }
 },
 "nbformat": 4,
 "nbformat_minor": 0
}